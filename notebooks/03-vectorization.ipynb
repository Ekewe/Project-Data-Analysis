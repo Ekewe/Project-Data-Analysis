{
 "cells": [
  {
   "cell_type": "markdown",
   "id": "c5b68cef-6305-4848-abd5-beef1867fe7b",
   "metadata": {},
   "source": [
    "# Vectorizing Complaint Descriptions\n",
    "\n",
    "In this notebook, we will transform the cleaned complaint descriptions into numerical representations, a process known as vectorization. By converting text into vectors, we can use machine learning techniques to analyze and interpret patterns in the data. We will focus on two popular vectorization techniques:\n",
    "\n",
    "1. **Bag-of-Words (BoW)**: This technique represents each complaint based on the frequency of words, capturing basic word counts across the dataset.\n",
    "2. **TF-IDF (Term Frequency - Inverse Document Frequency)**: This method adjusts word frequencies by their importance, downweighting commonly used words and emphasizing words that are unique to individual complaints.\n",
    "\n",
    "### Goals of this Notebook\n",
    "\n",
    "- **Load Cleaned Data**: Begin by loading the preprocessed complaint data.\n",
    "- **Apply Vectorization Techniques**: Generate BoW and TF-IDF matrices to represent the data in numerical form.\n",
    "- **Analyze the Vectors**: Analyze the vectors by plotting them into a bar graph.\n",
    "- **Save the Vectors**: Store the resulting matrices in `.npz` format to make them available for future analysis, such as topic modeling.\n",
    "\n",
    "With these vectorized representations, we will have a structured and numerical format of the complaint data, which prepares us for identifying key themes and patterns in subsequent steps.\n"
   ]
  },
  {
   "cell_type": "code",
   "execution_count": 53,
   "id": "adf4abca-39e7-481e-88ad-0197fb200e1e",
   "metadata": {},
   "outputs": [],
   "source": [
    "import pandas as pd\n",
    "import scipy.sparse\n",
    "import os\n",
    "import pickle\n",
    "from sklearn.feature_extraction.text import CountVectorizer\n",
    "from sklearn.feature_extraction.text import TfidfVectorizer"
   ]
  },
  {
   "cell_type": "code",
   "execution_count": 54,
   "id": "7b875ddc-edb0-45a6-b6f6-e45e117d3772",
   "metadata": {},
   "outputs": [
    {
     "name": "stdout",
     "output_type": "stream",
     "text": [
      "                                      Complaint Text\n",
      "0                 paint base building without permit\n",
      "1                       work do work building facade\n",
      "2  construction rear yard addition without permit...\n",
      "3                                   paint front wall\n",
      "4                             installation bar patio\n"
     ]
    }
   ],
   "source": [
    "# Load the cleaned complaint data\n",
    "complaints_df = pd.read_csv('../data/processed/cleaned_complaints.csv')\n",
    "\n",
    "# Display the first few rows to confirm successful loading\n",
    "print(complaints_df.head())"
   ]
  },
  {
   "cell_type": "code",
   "execution_count": 55,
   "id": "0ac97653-005d-4eb6-b501-9c51d8269b4d",
   "metadata": {},
   "outputs": [],
   "source": [
    "# Initialize CountVectorizer\n",
    "vectorizer_bow = CountVectorizer()\n",
    "\n",
    "# Fit and transform the complaint text to BoW vectors\n",
    "bow_vectors = vectorizer_bow.fit_transform(complaints_df['Complaint Text'])"
   ]
  },
  {
   "cell_type": "code",
   "execution_count": 56,
   "id": "26b62739-920e-4388-a3ec-1cf474c92aa6",
   "metadata": {},
   "outputs": [],
   "source": [
    "# Initialize TfidfVectorizer\n",
    "vectorizer_tfidf = TfidfVectorizer()\n",
    "\n",
    "# Fit and transform the complaint text to TF-IDF vectors\n",
    "tfidf_vectors = vectorizer_tfidf.fit_transform(complaints_df['Complaint Text'])"
   ]
  },
  {
   "cell_type": "code",
   "execution_count": 57,
   "id": "14ec3bf7-e642-4af7-a5ae-bf0057ac1663",
   "metadata": {},
   "outputs": [
    {
     "name": "stdout",
     "output_type": "stream",
     "text": [
      "Average number of words per document (BoW): 3.807302964569776\n",
      "Average number of words per document (TF-IDF): 1.8047498613388036\n"
     ]
    }
   ],
   "source": [
    "average_words_per_document_bow = np.mean(bow_vectors.toarray().sum(axis=1))\n",
    "average_words_per_document_tfidf = np.mean(tfidf_vectors.toarray().sum(axis=1))\n",
    "\n",
    "print(\"Average number of words per document (BoW):\", average_words_per_document_bow)\n",
    "print(\"Average number of words per document (TF-IDF):\", average_words_per_document_tfidf)"
   ]
  },
  {
   "cell_type": "code",
   "execution_count": 58,
   "id": "279cc0b0-a788-41bd-8693-3bbca247f658",
   "metadata": {},
   "outputs": [
    {
     "name": "stdout",
     "output_type": "stream",
     "text": [
      "Top N words in BoW:  ['installation' 'work' 'window' 'facade' 'replacement' 'signage' 'permit'\n",
      " 'without' 'paint' 'noncompliance']\n",
      "Top N words in TF-IDF:  ['installation' 'work' 'replacement' 'window' 'signage' 'facade' 'permit'\n",
      " 'without' 'paint' 'noncompliance']\n"
     ]
    },
    {
     "data": {
      "image/png": "[encoded data removed]",
      "text/plain": [
       "<Figure size 640x480 with 1 Axes>"
      ]
     },
     "metadata": {},
     "output_type": "display_data"
    }
   ],
   "source": [
    "# Here is an in-between step to visualize the two methods and their differences\n",
    "import matplotlib.pyplot as plt\n",
    "import numpy as np\n",
    "\n",
    "# Define constants\n",
    "N = 10\n",
    "\n",
    "# Get the word frequencies from the BoW and TF-IDF vectors\n",
    "bow_words = bow_vectors.toarray()\n",
    "tfidf_words = tfidf_vectors.toarray()\n",
    "\n",
    "# Get the feature names (i.e. the words) from the BoW and TF-IDF vectors\n",
    "bow_feature_names = vectorizer_bow.get_feature_names_out()\n",
    "tfidf_feature_names = vectorizer_tfidf.get_feature_names_out()\n",
    "\n",
    "# Get the indices of the top N words in the BoW and TF-IDF vectors\n",
    "bow_top_words = np.argsort(bow_words.sum(axis=0))[-N:][::-1]\n",
    "tfidf_top_words = np.argsort(tfidf_words.sum(axis=0))[-N:][::-1]\n",
    "\n",
    "# Get the word frequencies for the top N words in the BoW and TF-IDF vectors\n",
    "bow_word_frequencies = bow_words.sum(axis=0)[bow_top_words]\n",
    "tfidf_word_frequencies = tfidf_words.sum(axis=0)[tfidf_top_words]\n",
    "\n",
    "# Get the word names for the top N words in the BoW and TF-IDF vectors\n",
    "bow_top_word_names = bow_feature_names[bow_top_words]\n",
    "tfidf_top_word_names = tfidf_feature_names[tfidf_top_words]\n",
    "\n",
    "# Print top N words in BoW and TF-IDF vectors\n",
    "print(\"Top N words in BoW: \", bow_top_word_names)\n",
    "print(\"Top N words in TF-IDF: \", tfidf_top_word_names)\n",
    "\n",
    "# Create grouped bar chart to compare top N word frequencies\n",
    "plt.bar(np.arange(N) - 0.35/2, bow_word_frequencies, 0.35, label='BoW')\n",
    "plt.bar(np.arange(N) + 0.35/2, tfidf_word_frequencies, 0.35, label='TF-IDF')\n",
    "plt.xlabel('Word Index')\n",
    "plt.ylabel('Frequency')\n",
    "plt.title('Top N Words in BoW and TF-IDF Vectors')\n",
    "plt.legend()\n",
    "plt.show()"
   ]
  },
  {
   "cell_type": "markdown",
   "id": "d095fba2-0fed-44f9-b6e6-d14366f0f82e",
   "metadata": {},
   "source": [
    "### Analysis of Top N Words in BoW and TF-IDF Vectors\n",
    "\n",
    "This chart shows the frequency of the top N words in Bag-of-Words (BoW) and TF-IDF models.\n",
    "\n",
    "1. **Higher Frequencies in BoW**:\n",
    "   - BoW has significantly higher frequencies because it simply counts each word's occurrences. This leads to larger raw counts, especially for commonly used words.\n",
    "\n",
    "2. **Weighting in TF-IDF**:\n",
    "   - TF-IDF frequencies are lower since it reduces the importance of words that appear frequently across documents. Instead, TF-IDF highlights words that are more unique or informative in individual documents.\n",
    "\n",
    "3. **Different Word Importance**:\n",
    "   - BoW assigns high importance to frequently used words, while TF-IDF emphasizes less common but more informative words. This difference impacts the interpretation of topics, as BoW is frequency-focused, and TF-IDF prioritizes unique terms.\n",
    "\n",
    "This comparison shows how BoW and TF-IDF differ in word importance, which affects the results and interpretation in topic modeling."
   ]
  },
  {
   "cell_type": "code",
   "execution_count": 59,
   "id": "69c602b8-a171-4d6b-8c11-e0422bde12aa",
   "metadata": {},
   "outputs": [],
   "source": [
    "# Save BoW vectors\n",
    "scipy.sparse.save_npz('../data/processed/bow_vectors.npz', bow_vectors)\n",
    "# Saving the vectorized object for further use\n",
    "with open('../data/processed/vectorizer_bow.pkl', 'wb') as f:\n",
    "    pickle.dump(vectorizer_bow, f)\n",
    "# Save TF-IDF vectors\n",
    "scipy.sparse.save_npz('../data/processed/tfidf_vectors.npz', tfidf_vectors)\n",
    "with open('../data/processed/vectorizer_tfidf.pkl', 'wb') as f:\n",
    "    pickle.dump(vectorizer_tfidf, f)"
   ]
  },
  {
   "cell_type": "markdown",
   "id": "cf0f0f77-1d08-415d-b548-24dba37ea410",
   "metadata": {},
   "source": [
    "### Saving Vectorized Data\n",
    "\n",
    "We save the Bag-of-Words and TF-IDF matrices in compressed `.npz` format. This format is efficient for storing large sparse matrices, allowing us to easily reload these vectors in future notebooks without repeating the vectorization process.\n"
   ]
  }
 ],
 "metadata": {
  "kernelspec": {
   "display_name": "Python 3 (ipykernel)",
   "language": "python",
   "name": "python3"
  },
  "language_info": {
   "codemirror_mode": {
    "name": "ipython",
    "version": 3
   },
   "file_extension": ".py",
   "mimetype": "text/x-python",
   "name": "python",
   "nbconvert_exporter": "python",
   "pygments_lexer": "ipython3",
   "version": "3.12.7"
  }
 },
 "nbformat": 4,
 "nbformat_minor": 5
}
